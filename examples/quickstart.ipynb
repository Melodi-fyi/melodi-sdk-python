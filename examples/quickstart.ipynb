{
 "cells": [
  {
   "cell_type": "markdown",
   "id": "054afc6a-cc41-4eae-ab64-5127eea31d0f",
   "metadata": {},
   "source": [
    "# Melodi Python SDK - Quick Start"
   ]
  },
  {
   "cell_type": "code",
   "execution_count": null,
   "id": "e20278d2-3e53-40ac-bb7f-cd3281b9f627",
   "metadata": {},
   "outputs": [],
   "source": [
    "from importlib import reload\n",
    "import os\n",
    "\n",
    "# Change the working directory\n",
    "os.chdir(\"..\")\n",
    "\n",
    "# Verify the change\n",
    "print(\"Current working directory:\", os.getcwd())"
   ]
  },
  {
   "cell_type": "code",
   "execution_count": null,
   "id": "6931699e-16cc-4582-b000-571bff07ccff",
   "metadata": {},
   "outputs": [],
   "source": [
    "from melodi.api import MelodiClient\n",
    "from melodi.data_models import (\n",
    "    BinarySample,\n",
    "    BakeoffSample,\n",
    "    FeedbackSample,\n",
    "    Feedback,\n",
    "    User,\n",
    "    Item\n",
    ")"
   ]
  },
  {
   "cell_type": "markdown",
   "id": "5f118d56",
   "metadata": {},
   "source": [
    "## Setup Melodi client"
   ]
  },
  {
   "cell_type": "code",
   "execution_count": 3,
   "id": "e6fa29ce",
   "metadata": {},
   "outputs": [],
   "source": [
    "os.environ[\"MELODI_API_KEY\"] = \"<YOUR_KEY>\"\n",
    "\n",
    "client = MelodiClient(verbose=True)"
   ]
  },
  {
   "cell_type": "markdown",
   "id": "66e4d598",
   "metadata": {},
   "source": [
    "## Get all experiment"
   ]
  },
  {
   "cell_type": "code",
   "execution_count": null,
   "id": "ede215ad",
   "metadata": {},
   "outputs": [],
   "source": [
    "res = client.get_experiments()\n",
    "print(res.text)"
   ]
  },
  {
   "cell_type": "markdown",
   "id": "78b4d23f",
   "metadata": {},
   "source": [
    "## Create a new experiment"
   ]
  },
  {
   "cell_type": "code",
   "execution_count": null,
   "id": "0ca3d61a",
   "metadata": {},
   "outputs": [],
   "source": [
    "client.create_experiment(\n",
    "    name=\"My First Experiment\", instructions=\"Here are some sample instructions.\"\n",
    ")"
   ]
  },
  {
   "cell_type": "markdown",
   "id": "83ee9a3d",
   "metadata": {},
   "source": [
    "## Log an item for review"
   ]
  },
  {
   "cell_type": "code",
   "execution_count": null,
   "id": "bc1010e2",
   "metadata": {},
   "outputs": [],
   "source": [
    "item = Item(projectName=\"ProjectName\", versionName=\"1.0\", data={\"key\": \"value\"})\n",
    "client.log_item_to_experiment(item)"
   ]
  },
  {
   "cell_type": "markdown",
   "id": "97512ae0",
   "metadata": {},
   "source": [
    "## Create user feedback"
   ]
  },
  {
   "cell_type": "code",
   "execution_count": null,
   "id": "5504faf0",
   "metadata": {},
   "outputs": [],
   "source": [
    "sample = FeedbackSample(\n",
    "    project=\"ProjectName\",\n",
    "    projectVersion=\"1.0\",\n",
    "    input=\"Some input data\",\n",
    "    output=\"Some output data\",\n",
    "    metadata={\"key\": \"value\"}\n",
    ")\n",
    "\n",
    "feedback = Feedback(\n",
    "    feedbackType=\"POSITIVE\",\n",
    "    feedbackText=\"This is some positive feedback\"\n",
    ")\n",
    "\n",
    "user = User(\n",
    "    id=\"userid123\",\n",
    "    email=\"user@example.com\"\n",
    ")\n",
    "\n",
    "client.log_feedback(sample, feedback, user)"
   ]
  },
  {
   "cell_type": "markdown",
   "id": "7f67bde8-bc19-48bc-9a18-334a64c62430",
   "metadata": {},
   "source": [
    "## Batch upload: Binary Experiment"
   ]
  },
  {
   "cell_type": "code",
   "execution_count": null,
   "id": "8bec24e9-4d27-42a4-adb5-66f8c733a43a",
   "metadata": {},
   "outputs": [],
   "source": [
    "client = MelodiClient(verbose=True)\n",
    "\n",
    "binary_samples = client.load_samples(\n",
    "    file_path=\"./examples/binary_sample_data.jsonl\", experiment_type=\"binary\"\n",
    ")\n",
    "\n",
    "client.create_binary_evaluation_experiment(\n",
    "    name=\"My Binary Experiment\",\n",
    "    instructions=\"Here are some instructions\",\n",
    "    samples=binary_samples,\n",
    ")"
   ]
  },
  {
   "cell_type": "markdown",
   "id": "8c5737f2-5353-4413-bcec-c325ea0e5680",
   "metadata": {},
   "source": [
    "### Log an individual sample"
   ]
  },
  {
   "cell_type": "code",
   "execution_count": null,
   "id": "310d92ea-f218-4bf6-a63b-c075b6c1a2aa",
   "metadata": {},
   "outputs": [],
   "source": [
    "EXP_ID = 1505\n",
    "\n",
    "sample_A = BinarySample(response=\"This is a response\", title=\"This is a title\")\n",
    "client.log_binary_sample(experiment_id=EXP_ID, sample=sample_A)"
   ]
  },
  {
   "cell_type": "markdown",
   "id": "3f29c68b-fa00-46d3-a367-523bb0661089",
   "metadata": {},
   "source": [
    "## Batch upload: Bake-off Experiment"
   ]
  },
  {
   "cell_type": "code",
   "execution_count": null,
   "id": "8c7a1b15-17da-4e5d-ba2d-b63654318ae8",
   "metadata": {},
   "outputs": [],
   "source": [
    "bakeoff_samples = client.load_samples(\n",
    "    file_path=\"./examples/bakeoff_sample_data.jsonl\", experiment_type=\"bake_off\"\n",
    ")\n",
    "\n",
    "client.create_bake_off_evaluation_experiment(\n",
    "    name=\"My Bake-off Experiment - 2\",\n",
    "    instructions=\"Here are some instructions\",\n",
    "    comparisons=bakeoff_samples,\n",
    "    project=\"Mukul Test Project\",\n",
    ")"
   ]
  },
  {
   "cell_type": "code",
   "execution_count": null,
   "id": "3c09dc6b-3647-4498-b51d-bcd02be61dba",
   "metadata": {},
   "outputs": [],
   "source": [
    "EXP_ID = 1439\n",
    "\n",
    "sample_A = BakeoffSample(version=\"version A\", response=\"response A\")\n",
    "sample_B = BakeoffSample(version=\"version B\", response=\"response B\")\n",
    "\n",
    "client.log_bake_off_comparison(\n",
    "    experiment_id=EXP_ID, sample_1=sample_A, sample_2=sample_B\n",
    ")"
   ]
  }
 ],
 "metadata": {
  "kernelspec": {
   "display_name": "Python 3 (ipykernel)",
   "language": "python",
   "name": "python3"
  },
  "language_info": {
   "codemirror_mode": {
    "name": "ipython",
    "version": 3
   },
   "file_extension": ".py",
   "mimetype": "text/x-python",
   "name": "python",
   "nbconvert_exporter": "python",
   "pygments_lexer": "ipython3",
   "version": "3.11.6"
  }
 },
 "nbformat": 4,
 "nbformat_minor": 5
}

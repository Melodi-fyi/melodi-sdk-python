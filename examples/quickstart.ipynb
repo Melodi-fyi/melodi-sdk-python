{
 "cells": [
  {
   "cell_type": "markdown",
   "id": "054afc6a-cc41-4eae-ab64-5127eea31d0f",
   "metadata": {},
   "source": [
    "# Melodi Python SDK - Quick Start"
   ]
  },
  {
   "cell_type": "code",
   "execution_count": 1,
   "id": "e20278d2-3e53-40ac-bb7f-cd3281b9f627",
   "metadata": {},
   "outputs": [
    {
     "name": "stdout",
     "output_type": "stream",
     "text": [
      "Current working directory: /Users/mukul/projects/repos/melodi-sdk-python\n"
     ]
    }
   ],
   "source": [
    "from importlib import reload\n",
    "import os\n",
    "\n",
    "# Change the working directory\n",
    "os.chdir(\"..\")\n",
    "\n",
    "# Verify the change\n",
    "print(\"Current working directory:\", os.getcwd())"
   ]
  },
  {
   "cell_type": "code",
   "execution_count": 2,
   "id": "c52ef2f6",
   "metadata": {},
   "outputs": [
    {
     "name": "stdout",
     "output_type": "stream",
     "text": [
      "Processing /Users/mukul/projects/repos/melodi-sdk-python\n",
      "  Preparing metadata (setup.py) ... \u001b[?25ldone\n",
      "\u001b[?25hRequirement already satisfied: autoevals in /Users/mukul/anaconda3/envs/melodi-3/lib/python3.9/site-packages (from melodi==0.0.3) (0.0.65)\n",
      "Requirement already satisfied: braintrust in /Users/mukul/anaconda3/envs/melodi-3/lib/python3.9/site-packages (from melodi==0.0.3) (0.0.129)\n",
      "Requirement already satisfied: requests in /Users/mukul/anaconda3/envs/melodi-3/lib/python3.9/site-packages (from melodi==0.0.3) (2.32.1)\n",
      "Requirement already satisfied: pydantic in /Users/mukul/anaconda3/envs/melodi-3/lib/python3.9/site-packages (from melodi==0.0.3) (2.7.3)\n",
      "Requirement already satisfied: email-validator in /Users/mukul/anaconda3/envs/melodi-3/lib/python3.9/site-packages (from melodi==0.0.3) (2.2.0)\n",
      "Requirement already satisfied: chevron in /Users/mukul/anaconda3/envs/melodi-3/lib/python3.9/site-packages (from autoevals->melodi==0.0.3) (0.14.0)\n",
      "Requirement already satisfied: levenshtein in /Users/mukul/anaconda3/envs/melodi-3/lib/python3.9/site-packages (from autoevals->melodi==0.0.3) (0.25.1)\n",
      "Requirement already satisfied: pyyaml in /Users/mukul/anaconda3/envs/melodi-3/lib/python3.9/site-packages (from autoevals->melodi==0.0.3) (6.0.1)\n",
      "Requirement already satisfied: braintrust-core==0.0.35 in /Users/mukul/anaconda3/envs/melodi-3/lib/python3.9/site-packages (from autoevals->melodi==0.0.3) (0.0.35)\n",
      "Requirement already satisfied: GitPython in /Users/mukul/anaconda3/envs/melodi-3/lib/python3.9/site-packages (from braintrust->melodi==0.0.3) (3.1.43)\n",
      "Requirement already satisfied: tqdm in /Users/mukul/anaconda3/envs/melodi-3/lib/python3.9/site-packages (from braintrust->melodi==0.0.3) (4.66.4)\n",
      "Requirement already satisfied: exceptiongroup==1.2.0 in /Users/mukul/anaconda3/envs/melodi-3/lib/python3.9/site-packages (from braintrust->melodi==0.0.3) (1.2.0)\n",
      "Requirement already satisfied: python-dotenv in /Users/mukul/anaconda3/envs/melodi-3/lib/python3.9/site-packages (from braintrust->melodi==0.0.3) (1.0.1)\n",
      "Requirement already satisfied: dnspython>=2.0.0 in /Users/mukul/anaconda3/envs/melodi-3/lib/python3.9/site-packages (from email-validator->melodi==0.0.3) (2.6.1)\n",
      "Requirement already satisfied: idna>=2.0.0 in /Users/mukul/anaconda3/envs/melodi-3/lib/python3.9/site-packages (from email-validator->melodi==0.0.3) (3.7)\n",
      "Requirement already satisfied: annotated-types>=0.4.0 in /Users/mukul/anaconda3/envs/melodi-3/lib/python3.9/site-packages (from pydantic->melodi==0.0.3) (0.7.0)\n",
      "Requirement already satisfied: pydantic-core==2.18.4 in /Users/mukul/anaconda3/envs/melodi-3/lib/python3.9/site-packages (from pydantic->melodi==0.0.3) (2.18.4)\n",
      "Requirement already satisfied: typing-extensions>=4.6.1 in /Users/mukul/anaconda3/envs/melodi-3/lib/python3.9/site-packages (from pydantic->melodi==0.0.3) (4.11.0)\n",
      "Requirement already satisfied: charset-normalizer<4,>=2 in /Users/mukul/anaconda3/envs/melodi-3/lib/python3.9/site-packages (from requests->melodi==0.0.3) (3.3.2)\n",
      "Requirement already satisfied: urllib3<3,>=1.21.1 in /Users/mukul/anaconda3/envs/melodi-3/lib/python3.9/site-packages (from requests->melodi==0.0.3) (2.2.1)\n",
      "Requirement already satisfied: certifi>=2017.4.17 in /Users/mukul/anaconda3/envs/melodi-3/lib/python3.9/site-packages (from requests->melodi==0.0.3) (2024.2.2)\n",
      "Requirement already satisfied: gitdb<5,>=4.0.1 in /Users/mukul/anaconda3/envs/melodi-3/lib/python3.9/site-packages (from GitPython->braintrust->melodi==0.0.3) (4.0.11)\n",
      "Requirement already satisfied: rapidfuzz<4.0.0,>=3.8.0 in /Users/mukul/anaconda3/envs/melodi-3/lib/python3.9/site-packages (from levenshtein->autoevals->melodi==0.0.3) (3.9.1)\n",
      "Requirement already satisfied: smmap<6,>=3.0.1 in /Users/mukul/anaconda3/envs/melodi-3/lib/python3.9/site-packages (from gitdb<5,>=4.0.1->GitPython->braintrust->melodi==0.0.3) (5.0.1)\n",
      "Building wheels for collected packages: melodi\n",
      "  Building wheel for melodi (setup.py) ... \u001b[?25ldone\n",
      "\u001b[?25h  Created wheel for melodi: filename=melodi-0.0.3-py3-none-any.whl size=8592 sha256=6427d3fb91b16160d9c90b2c25d09d99162750d958a130a1638d0f4ebe7c3398\n",
      "  Stored in directory: /Users/mukul/Library/Caches/pip/wheels/92/64/cc/359e050c376f01126eff408a7da8be9d7b2f35670f5c75843e\n",
      "Successfully built melodi\n",
      "Installing collected packages: melodi\n",
      "Successfully installed melodi-0.0.3\n"
     ]
    }
   ],
   "source": [
    "import sys\n",
    "!{sys.executable} -m pip install ."
   ]
  },
  {
   "cell_type": "code",
   "execution_count": 3,
   "id": "6931699e-16cc-4582-b000-571bff07ccff",
   "metadata": {},
   "outputs": [
    {
     "name": "stderr",
     "output_type": "stream",
     "text": [
      "/Users/mukul/anaconda3/envs/melodi-3/lib/python3.9/site-packages/tqdm/auto.py:21: TqdmWarning: IProgress not found. Please update jupyter and ipywidgets. See https://ipywidgets.readthedocs.io/en/stable/user_install.html\n",
      "  from .autonotebook import tqdm as notebook_tqdm\n"
     ]
    }
   ],
   "source": [
    "from melodi.api import MelodiClient\n",
    "from melodi.data_models import (\n",
    "    BinarySample,\n",
    "    BakeoffSample,\n",
    "    FeedbackSample,\n",
    "    Feedback,\n",
    "    User,\n",
    "    Item\n",
    ")"
   ]
  },
  {
   "cell_type": "markdown",
   "id": "5f118d56",
   "metadata": {},
   "source": [
    "## Setup Melodi client"
   ]
  },
  {
   "cell_type": "code",
   "execution_count": null,
   "id": "e6fa29ce",
   "metadata": {},
   "outputs": [],
   "source": [
    "os.environ[\"MELODI_API_KEY\"] = \"<YOUR_KEY>\"\n",
    "\n",
    "client = MelodiClient(verbose=True)"
   ]
  },
  {
   "cell_type": "markdown",
   "id": "66e4d598",
   "metadata": {},
   "source": [
    "## Get all experiment"
   ]
  },
  {
   "cell_type": "code",
   "execution_count": null,
   "id": "ede215ad",
   "metadata": {},
   "outputs": [],
   "source": [
    "res = client.get_experiments()\n",
    "print(res.text)"
   ]
  },
  {
   "cell_type": "markdown",
   "id": "78b4d23f",
   "metadata": {},
   "source": [
    "## Create a new experiment"
   ]
  },
  {
   "cell_type": "code",
   "execution_count": null,
   "id": "0ca3d61a",
   "metadata": {},
   "outputs": [],
   "source": [
    "client.create_experiment(\n",
    "    name=\"My Experiment - Python SDK Quickstart\", instructions=\"Here are some sample instructions.\", project=\"My First Project\"\n",
    ")"
   ]
  },
  {
   "cell_type": "markdown",
   "id": "83ee9a3d",
   "metadata": {},
   "source": [
    "## Log an item for review"
   ]
  },
  {
   "cell_type": "code",
   "execution_count": null,
   "id": "bc1010e2",
   "metadata": {},
   "outputs": [],
   "source": [
    "item = Item(projectName=\"My First Project\", versionName=\"1.0\", data={\"key\": \"value\"})\n",
    "client.create_log(item)"
   ]
  },
  {
   "cell_type": "markdown",
   "id": "97512ae0",
   "metadata": {},
   "source": [
    "## Create user feedback"
   ]
  },
  {
   "cell_type": "code",
   "execution_count": null,
   "id": "5504faf0",
   "metadata": {},
   "outputs": [],
   "source": [
    "sample = FeedbackSample(\n",
    "    project=\"My First Project\",\n",
    "    projectVersion=\"1.0\",\n",
    "    input=\"Some input data\",\n",
    "    output=\"Some output data\",\n",
    "    metadata={\"key\": \"value\"}\n",
    ")\n",
    "\n",
    "feedback = Feedback(\n",
    "    feedbackType=\"POSITIVE\",\n",
    "    feedbackText=\"This is some positive feedback\"\n",
    ")\n",
    "\n",
    "user = User(\n",
    "    id=\"userid123\",\n",
    "    email=\"user@example.com\"\n",
    ")\n",
    "\n",
    "client.create_feedback(sample, feedback, user)"
   ]
  },
  {
   "cell_type": "markdown",
   "id": "7f67bde8-bc19-48bc-9a18-334a64c62430",
   "metadata": {},
   "source": [
    "## Batch upload: Binary Experiment"
   ]
  },
  {
   "cell_type": "code",
   "execution_count": null,
   "id": "8bec24e9-4d27-42a4-adb5-66f8c733a43a",
   "metadata": {},
   "outputs": [],
   "source": [
    "client = MelodiClient(verbose=True)\n",
    "\n",
    "binary_samples = client.load_samples(\n",
    "    file_path=\"./examples/binary_sample_data.jsonl\", experiment_type=\"binary\"\n",
    ")\n",
    "\n",
    "client.create_binary_evaluation_experiment(\n",
    "    name=\"My Binary Experiment\",\n",
    "    instructions=\"Here are some instructions\",\n",
    "    samples=binary_samples,\n",
    ")"
   ]
  },
  {
   "cell_type": "markdown",
   "id": "8c5737f2-5353-4413-bcec-c325ea0e5680",
   "metadata": {},
   "source": [
    "### Log an individual sample"
   ]
  },
  {
   "cell_type": "markdown",
   "id": "f69853d4",
   "metadata": {},
   "source": [
    "Samples can only be added to an experiment if the sample type (bakeoff or binary) matches the existing samples in the experiment, or if there are no samples in the experiment."
   ]
  },
  {
   "cell_type": "code",
   "execution_count": null,
   "id": "310d92ea-f218-4bf6-a63b-c075b6c1a2aa",
   "metadata": {},
   "outputs": [],
   "source": [
    "EXP_ID = <YOUR_EXPERIMENT_ID>\n",
    "\n",
    "sample_A = BinarySample(response=\"This is a response\", title=\"This is a title\")\n",
    "client.log_binary_sample(experiment_id=EXP_ID, sample=sample_A)"
   ]
  },
  {
   "cell_type": "markdown",
   "id": "3f29c68b-fa00-46d3-a367-523bb0661089",
   "metadata": {},
   "source": [
    "## Batch upload: Bake-off Experiment"
   ]
  },
  {
   "cell_type": "code",
   "execution_count": null,
   "id": "8c7a1b15-17da-4e5d-ba2d-b63654318ae8",
   "metadata": {
    "scrolled": true
   },
   "outputs": [],
   "source": [
    "bakeoff_samples = client.load_samples(\n",
    "    file_path=\"./examples/bakeoff_sample_data.jsonl\", experiment_type=\"bake_off\"\n",
    ")\n",
    "\n",
    "client.create_bake_off_evaluation_experiment(\n",
    "    name=\"My Bake-off Experiment - 2\",\n",
    "    instructions=\"Here are some instructions\",\n",
    "    comparisons=bakeoff_samples,\n",
    "    project=\"Mukul Test Project\",\n",
    ")"
   ]
  },
  {
   "cell_type": "markdown",
   "id": "675ec1ea-3f5e-4883-b44f-37e3f8d447d3",
   "metadata": {},
   "source": [
    "### Log an individual bake off sample"
   ]
  },
  {
   "cell_type": "markdown",
   "id": "70fc0f8f",
   "metadata": {},
   "source": [
    "Samples can only be added to an experiment if the sample type (bakeoff or binary) matches the existing samples in the experiment, or if there are no samples in the experiment."
   ]
  },
  {
   "cell_type": "code",
   "execution_count": null,
   "id": "5a607d1d-e6a8-4a69-bb86-88cf95f84a8a",
   "metadata": {},
   "outputs": [],
   "source": [
    "EXP_ID = <YOUR_EXPERIMENT_ID>\n",
    "\n",
    "sample_A = BakeoffSample(version=\"version A\", response=\"response A\")\n",
    "sample_B = BakeoffSample(version=\"version B\", response=\"response B\")\n",
    "\n",
    "client.log_bake_off_comparison(\n",
    "    experiment_id=EXP_ID, sample_1=sample_A, sample_2=sample_B\n",
    ")"
   ]
  }
 ],
 "metadata": {
  "kernelspec": {
   "display_name": "Python 3 (ipykernel)",
   "language": "python",
   "name": "python3"
  },
  "language_info": {
   "codemirror_mode": {
    "name": "ipython",
    "version": 3
   },
   "file_extension": ".py",
   "mimetype": "text/x-python",
   "name": "python",
   "nbconvert_exporter": "python",
   "pygments_lexer": "ipython3",
   "version": "3.9.19"
  }
 },
 "nbformat": 4,
 "nbformat_minor": 5
}

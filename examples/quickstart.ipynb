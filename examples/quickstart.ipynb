{
 "cells": [
  {
   "cell_type": "markdown",
   "id": "054afc6a-cc41-4eae-ab64-5127eea31d0f",
   "metadata": {},
   "source": [
    "# Melodi Python SDK - Quick Start"
   ]
  },
  {
   "cell_type": "code",
   "execution_count": null,
   "id": "e20278d2-3e53-40ac-bb7f-cd3281b9f627",
   "metadata": {},
   "outputs": [],
   "source": [
    "import os\n",
    "\n",
    "# Change the working directory\n",
    "os.chdir(\"..\")\n",
    "\n",
    "# Verify the change\n",
    "print(\"Current working directory:\", os.getcwd())"
   ]
  },
  {
   "cell_type": "code",
   "execution_count": null,
   "id": "c52ef2f6",
   "metadata": {},
   "outputs": [],
   "source": [
    "import sys\n",
    "!{sys.executable} -m pip install ."
   ]
  },
  {
   "cell_type": "code",
   "execution_count": null,
   "id": "6931699e-16cc-4582-b000-571bff07ccff",
   "metadata": {},
   "outputs": [],
   "source": [
    "from melodi.melodi_client import MelodiClient\n",
    "from melodi.feedback.data_models import Feedback\n",
    "from melodi.threads.data_models import Message, Thread\n",
    "from melodi.users.data_models import User"
   ]
  },
  {
   "cell_type": "markdown",
   "id": "5f118d56",
   "metadata": {},
   "source": [
    "## Setup Melodi client"
   ]
  },
  {
   "cell_type": "code",
   "execution_count": null,
   "id": "e6fa29ce",
   "metadata": {},
   "outputs": [],
   "source": [
    "os.environ[\"MELODI_API_KEY\"] = \"<YOUR_KEY>\"\n",
    "\n",
    "client = MelodiClient(verbose=True)"
   ]
  },
  {
   "cell_type": "markdown",
   "id": "29b96610",
   "metadata": {},
   "source": [
    "## Create a Project"
   ]
  },
  {
   "cell_type": "code",
   "execution_count": null,
   "id": "329b1dc5",
   "metadata": {},
   "outputs": [],
   "source": [
    "new_project = client.create_project(\"Melodi SDK Test\")\n",
    "\n",
    "print(new_project.id)"
   ]
  },
  {
   "cell_type": "markdown",
   "id": "66e4d598",
   "metadata": {},
   "source": [
    "## Create a thread in Melodi"
   ]
  },
  {
   "cell_type": "code",
   "execution_count": null,
   "id": "520f3a89",
   "metadata": {},
   "outputs": [],
   "source": [
    "\n",
    "melodiClient = MelodiClient(verbose=True)\n",
    "\n",
    "threadExternalId = \"external-thread-id-1\"\n",
    "\n",
    "externalUser = User(\n",
    "    externalId=\"test-user-id-1\",\n",
    "    name=\"Test User\",\n",
    "    email=\"test-user@example.com\",\n",
    "    segments={\n",
    "      \"team\": \"engineering\",\n",
    "    }\n",
    ")\n",
    "\n",
    "message1 = Message(\n",
    "    externalId=\"message1\",\n",
    "    role='user',\n",
    "    content='Tell me a joke',\n",
    ")\n",
    "\n",
    "message2 = Message(\n",
    "    externalId=\"message2\",\n",
    "    role='json_tool',\n",
    "    type='json',\n",
    "    jsonContent={\n",
    "        \"joke_setup\": \"Why did the chicken cross the road?\",\n",
    "        \"joke_punchline\": \"To get to the other side!\"\n",
    "    },\n",
    "    metadata={\n",
    "        \"metadatatest\": \"value2\"\n",
    "    },\n",
    ")\n",
    "\n",
    "message3 = Message(\n",
    "    externalId=\"message3\",\n",
    "    role='assistant',\n",
    "    content='Why did the chicken cross the road? To get to the other side!',\n",
    "    metadata={\n",
    "        \"metadatatest\": \"value3\"\n",
    "    },\n",
    ")\n",
    "\n",
    "thread = Thread(\n",
    "    projectName=\"Melodi SDK Test\",\n",
    "    externalId=threadExternalId,\n",
    "    messages=[message1, message2, message3],\n",
    "    externalUser=externalUser\n",
    ")\n",
    "melodi_thread = melodiClient.threads.create_or_update(thread)\n",
    "\n",
    "print(melodi_thread)"
   ]
  },
  {
   "cell_type": "markdown",
   "id": "52daaefe",
   "metadata": {},
   "source": [
    "## Add feedback to the thread"
   ]
  },
  {
   "cell_type": "code",
   "execution_count": null,
   "id": "876f30b0",
   "metadata": {},
   "outputs": [],
   "source": [
    "feedback = Feedback(\n",
    "    externalThreadId=melodi_thread.id,\n",
    "    feedbackText=\"I don't understand\",\n",
    "    feedbackType=\"NEGATIVE\"\n",
    ")\n",
    "\n",
    "melodi_feedback = melodiClient.feedback.create(feedback)"
   ]
  }
 ],
 "metadata": {
  "kernelspec": {
   "display_name": "Python 3 (ipykernel)",
   "language": "python",
   "name": "python3"
  },
  "language_info": {
   "codemirror_mode": {
    "name": "ipython",
    "version": 3
   },
   "file_extension": ".py",
   "mimetype": "text/x-python",
   "name": "python",
   "nbconvert_exporter": "python",
   "pygments_lexer": "ipython3",
   "version": "3.11.6"
  }
 },
 "nbformat": 4,
 "nbformat_minor": 5
}
